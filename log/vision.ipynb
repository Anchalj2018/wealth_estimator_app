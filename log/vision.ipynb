{
 "cells": [
  {
   "cell_type": "code",
   "execution_count": 5,
   "metadata": {},
   "outputs": [],
   "source": [
    "\n",
    "from PIL import Image\n",
    "from io import BytesIO\n",
    "import numpy as np\n",
    "import tempfile\n",
    "import pickle\n",
    "import uuid"
   ]
  },
  {
   "cell_type": "code",
   "execution_count": 20,
   "metadata": {},
   "outputs": [
    {
     "name": "stderr",
     "output_type": "stream",
     "text": [
      "100%|██████████| 7/7 [00:00<00:00, 129912.07it/s]\n"
     ]
    }
   ],
   "source": [
    "for filename in tqdm(sorted(os.listdir(DATA_DIR))):\n",
    "        if filename.endswith(\".jpg\"):\n",
    "                print(filename)"
   ]
  },
  {
   "cell_type": "code",
   "execution_count": 17,
   "metadata": {},
   "outputs": [
    {
     "name": "stdout",
     "output_type": "stream",
     "text": [
      "✅ Loaded 0 profiles\n",
      "\n"
     ]
    }
   ],
   "source": [
    "# import pickle\n",
    "\n",
    "# with open(\"data/mock_profiles.pkl\", \"rb\") as f:\n",
    "#     profiles = pickle.load(f)\n"
   ]
  },
  {
   "cell_type": "code",
   "execution_count": 7,
   "metadata": {},
   "outputs": [],
   "source": [
    "\n",
    "import os\n",
    "import uuid\n",
    "import pickle\n",
    "import numpy as np\n",
    "from PIL import Image\n",
    "import torch\n",
    "from transformers import CLIPProcessor, CLIPModel\n",
    "import faiss"
   ]
  },
  {
   "cell_type": "code",
   "execution_count": 8,
   "metadata": {},
   "outputs": [
    {
     "name": "stdout",
     "output_type": "stream",
     "text": [
      "Embeddings, metadata, and FAISS index saved successfully.\n"
     ]
    }
   ],
   "source": [
    "\n",
    "\n",
    "# ---------------------------\n",
    "# Config / paths\n",
    "# ---------------------------\n",
    "DATA_DIR = \"data\"\n",
    "EMBEDDINGS_DIR = \"embeddings\"\n",
    "os.makedirs(EMBEDDINGS_DIR, exist_ok=True)\n",
    "\n",
    "EMBEDDINGS_FILE = os.path.join(EMBEDDINGS_DIR, \"embeddings.npy\")\n",
    "METADATA_FILE = os.path.join(EMBEDDINGS_DIR, \"metadata.pkl\")\n",
    "FAISS_INDEX_FILE = os.path.join(EMBEDDINGS_DIR, \"faiss_index.index\")\n",
    "\n",
    "# ---------------------------\n",
    "# Sample image DB\n",
    "# ---------------------------\n",
    "IMAGE_DB = [\n",
    "    {\"path\": \"pic1.jpg\", \"label\": \"Wealthy\", \"networth\": 500000},\n",
    "    {\"path\": \"pic2.jpg\", \"label\": \"Not Wealthy\", \"networth\": 6000},\n",
    "    {\"path\": \"pic3.jpg\", \"label\": \"Wealthy\", \"networth\": 700000},\n",
    "    {\"path\": \"pic4.jpg\", \"label\": \"Not Wealthy\", \"networth\": 5000},\n",
    "    {\"path\": \"pic5.jpg\", \"label\": \"Wealthy\", \"networth\": 600000},\n",
    "    {\"path\": \"pic6.jpg\", \"label\": \"Not Wealthy\", \"networth\": 2000},\n",
    "]\n",
    "\n",
    "# ---------------------------\n",
    "# Load CLIP model once\n",
    "# ---------------------------\n",
    "clip_model = CLIPModel.from_pretrained(\"openai/clip-vit-base-patch32\")\n",
    "clip_processor = CLIPProcessor.from_pretrained(\"openai/clip-vit-base-patch32\")\n",
    "\n",
    "def compute_clip_embedding(image: Image.Image) -> np.ndarray:\n",
    "    inputs = clip_processor(images=image, return_tensors=\"pt\")\n",
    "    with torch.no_grad():\n",
    "        embedding = clip_model.get_image_features(**inputs)\n",
    "    embedding = embedding / embedding.norm(p=2, dim=-1, keepdim=True)  # normalize for cosine\n",
    "    return embedding[0].cpu().numpy().astype(\"float32\")  # NumPy array, ready for FAISS\n",
    "\n",
    "\n",
    "def load_and_resize_image(path, size=(224, 224)):\n",
    "    img = Image.open(path).convert(\"RGB\")\n",
    "    img = img.resize(size, Image.BICUBIC)\n",
    "    return img\n",
    "\n",
    "# ---------------------------\n",
    "# Generate embeddings & metadata\n",
    "# ---------------------------\n",
    "embedding_list = []\n",
    "metadata_list = []\n",
    "\n",
    "for item in IMAGE_DB:\n",
    "    uid = str(uuid.uuid4())\n",
    "    img_path = os.path.join(DATA_DIR, item[\"path\"])\n",
    "    img=load_and_resize_image(img_path)\n",
    "    emb = compute_clip_embedding(img)\n",
    "\n",
    "    embedding_list.append(emb)\n",
    "\n",
    "    metadata_list.append({\n",
    "        \"id\": uid,\n",
    "        \"filename\": item[\"path\"],\n",
    "        \"label\": item[\"label\"],\n",
    "        \"networth\": item[\"networth\"]\n",
    "    })\n",
    "\n",
    "# Save embeddings as NumPy array\n",
    "embeddings_array = np.stack(embedding_list)\n",
    "np.save(EMBEDDINGS_FILE, embeddings_array)\n",
    "\n",
    "# Save metadata\n",
    "with open(METADATA_FILE, \"wb\") as f:\n",
    "    pickle.dump(metadata_list, f)\n",
    "\n",
    "# ---------------------------\n",
    "# Build FAISS index\n",
    "# ---------------------------\n",
    "dim = embeddings_array.shape[1]\n",
    "index = faiss.IndexFlatIP(dim)  # cosine similarity using inner product\n",
    "faiss.normalize_L2(embeddings_array)  # Important for cosine similarity\n",
    "index.add(embeddings_array)\n",
    "\n",
    "\n",
    "# Save FAISS index\n",
    "faiss.write_index(index, FAISS_INDEX_FILE)\n",
    "\n",
    "print(\"Embeddings, metadata, and FAISS index saved successfully.\")\n"
   ]
  },
  {
   "cell_type": "code",
   "execution_count": 10,
   "metadata": {},
   "outputs": [
    {
     "ename": "IndexError",
     "evalue": "only integers, slices (`:`), ellipsis (`...`), numpy.newaxis (`None`) and integer or boolean arrays are valid indices",
     "output_type": "error",
     "traceback": [
      "\u001b[0;31m---------------------------------------------------------------------------\u001b[0m",
      "\u001b[0;31mIndexError\u001b[0m                                Traceback (most recent call last)",
      "Cell \u001b[0;32mIn[10], line 1\u001b[0m\n\u001b[0;32m----> 1\u001b[0m \u001b[43membedding_list\u001b[49m\u001b[43m[\u001b[49m\u001b[38;5;241;43m0\u001b[39;49m\u001b[43m]\u001b[49m\u001b[43m[\u001b[49m\u001b[38;5;124;43m'\u001b[39;49m\u001b[38;5;124;43mid\u001b[39;49m\u001b[38;5;124;43m'\u001b[39;49m\u001b[43m]\u001b[49m\n",
      "\u001b[0;31mIndexError\u001b[0m: only integers, slices (`:`), ellipsis (`...`), numpy.newaxis (`None`) and integer or boolean arrays are valid indices"
     ]
    }
   ],
   "source": [
    "embedding_list[0]['id']"
   ]
  },
  {
   "cell_type": "code",
   "execution_count": 53,
   "metadata": {},
   "outputs": [],
   "source": [
    "import faiss\n",
    "import numpy as np\n",
    "import pickle"
   ]
  },
  {
   "cell_type": "code",
   "execution_count": 54,
   "metadata": {},
   "outputs": [],
   "source": [
    "import faiss\n",
    "import numpy as np\n",
    "import pickle\n",
    "\n",
    "# Load embedding store\n",
    "with open(\"app/embedding_store.pkl\", \"rb\") as f:\n",
    "    data = pickle.load(f)\n",
    "\n",
    "embeddings = np.array([item[\"embedding\"] for item in data]).astype(\"float32\")\n",
    "ids = np.array(range(len(data)))\n",
    "\n",
    "# Create FAISS index (L2 or cosine)\n",
    "index = faiss.IndexFlatIP(embeddings.shape[1])  # Inner product for cosine\n",
    "faiss.normalize_L2(embeddings)  # Important for cosine similarity\n",
    "index.add(embeddings)\n",
    "\n",
    "# Save\n",
    "faiss.write_index(index, \"app/faiss_index.index\")\n",
    "\n",
    "# # Save metadata separately\n",
    "# with open(\"app/metadata.pkl\", \"wb\") as f:\n",
    "#     pickle.dump(data, f)"
   ]
  },
  {
   "cell_type": "code",
   "execution_count": 66,
   "metadata": {},
   "outputs": [
    {
     "data": {
      "text/plain": [
       "{'id': 'pic1.jpeg',\n",
       " 'embedding': array([ 2.48834074e-01,  2.00178176e-02, -6.67418420e-01,  2.21818894e-01,\n",
       "         5.08008122e-01, -4.11142886e-01,  1.78222805e-02,  1.59614652e-01,\n",
       "         2.14969277e-01, -3.07403088e-01,  4.44079041e-01, -1.41415760e-01,\n",
       "         7.36602783e-01, -1.66664839e-01,  6.11325920e-01, -4.61693630e-02,\n",
       "         1.50555968e-02,  4.41217542e-01,  7.64539301e-01, -9.08671021e-02,\n",
       "        -5.89052677e-01,  1.67245537e-01,  2.01479256e-01, -2.37750024e-01,\n",
       "        -4.45756972e-01,  1.99434549e-01, -1.13720000e-02,  1.00015640e-01,\n",
       "         8.17388818e-02,  1.34276420e-01, -1.95572004e-01,  3.14170241e-01,\n",
       "         8.65175501e-02, -1.45974249e-01,  2.00292110e-01,  1.68341845e-01,\n",
       "        -4.40652668e-03,  4.98539597e-01, -2.54890025e-01, -1.82138652e-01,\n",
       "        -7.99991846e-01,  1.83169782e-01, -2.62621462e-01, -1.17970377e-01,\n",
       "        -4.05394733e-02,  6.76733196e-01,  2.20628083e-02, -4.06065471e-02,\n",
       "         2.45170832e-01,  1.61430866e-01,  5.26924849e-01, -9.01501179e-02,\n",
       "         1.46915913e-01, -1.60581321e-02,  5.14163673e-02, -2.50033438e-01,\n",
       "         5.30012667e-01, -2.55443066e-01,  3.83117586e-01,  3.38081688e-01,\n",
       "         1.52176642e+00, -5.00833392e-01,  3.80192459e-01,  1.42260790e-02,\n",
       "        -3.52279469e-02, -5.11099100e-02, -8.85045975e-02,  6.50039792e-01,\n",
       "        -6.82685196e-01,  1.63965225e-01, -1.08728528e-01,  3.50589484e-01,\n",
       "        -2.89316237e-01, -2.97425568e-01, -1.96881711e-01,  1.20945886e-01,\n",
       "        -1.79498360e-01, -5.58770359e-01, -1.20243132e-02, -3.05375755e-01,\n",
       "         3.46908048e-02,  1.54695138e-02,  3.05551350e-01,  5.50705969e-01,\n",
       "        -1.71242908e-01,  2.55598634e-01,  1.48959923e+00, -2.10839018e-01,\n",
       "         2.81641424e-01, -2.46539146e-01,  2.19204128e-01, -3.94900143e-01,\n",
       "        -6.82836771e+00,  1.50151074e-01,  3.47896457e-01, -5.67970797e-02,\n",
       "        -2.83529818e-01,  4.76868123e-01, -8.12551737e-01,  5.94941020e-01,\n",
       "         2.20029175e-01,  1.57425731e-01, -6.07462704e-01,  1.83903128e-01,\n",
       "        -2.64239669e-01,  1.05243511e-01,  4.09073889e-01,  4.67959613e-01,\n",
       "        -2.59778321e-01,  4.21434939e-01, -3.16297859e-01, -9.88308132e-01,\n",
       "        -3.46719414e-01,  3.01651806e-02, -2.41850883e-01,  2.88170874e-01,\n",
       "         9.89335179e-02, -2.59330750e-01,  5.88747978e-01, -3.06090891e-01,\n",
       "         1.15435205e-01,  9.17052686e-01, -8.35522115e-02,  4.78499383e-02,\n",
       "         3.35305899e-01, -1.18048251e-01, -2.44774260e-02,  7.66880289e-02,\n",
       "        -1.52958512e-01,  3.30220938e-01,  4.15805340e-01, -1.50735334e-01,\n",
       "         6.78729042e-02,  8.78486335e-01,  6.77375197e-01,  9.75535512e-02,\n",
       "        -8.43606889e-04,  6.62012517e-01, -5.17679811e-01,  1.36792660e-01,\n",
       "        -1.36116266e-01,  8.93699825e-02, -1.03671104e-04,  8.41502547e-02,\n",
       "         1.26527667e-01, -1.02720797e-01, -2.85466522e-01,  8.33966255e-01,\n",
       "        -1.61707282e-01, -1.18339524e-01,  2.31170177e-01,  2.82460213e-01,\n",
       "        -4.36958611e-01, -2.79253274e-02,  4.45724756e-01, -5.15932858e-01,\n",
       "         1.71626508e-02, -3.91079962e-01, -4.91502076e-01,  2.40443558e-01,\n",
       "        -7.02348113e-01, -2.11168587e-01, -1.83212012e-01,  2.53707975e-01,\n",
       "         2.78861169e-02,  2.56120682e-01, -7.09740520e-02,  3.69064152e-01,\n",
       "        -4.32766974e-03,  1.79269850e-01, -5.37364185e-02, -1.91845268e-01,\n",
       "         1.22521132e-01,  2.14466631e-01, -4.85756099e-02, -2.46319443e-01,\n",
       "        -2.47089371e-01,  1.28956512e-01, -4.99518722e-01, -1.93574339e-01,\n",
       "        -2.82753289e-01, -2.69177914e-01,  1.98674649e-01, -2.11245745e-01,\n",
       "        -1.12767629e-01,  1.48887932e-01, -1.95851043e-01, -5.94878674e-01,\n",
       "        -9.72768143e-02, -1.58911824e-01, -1.24615468e-01,  2.76911676e-01,\n",
       "         3.32896024e-01,  2.24054173e-01,  1.31602436e-01,  1.77718252e-01,\n",
       "         1.08424246e-01,  1.38818234e-01, -4.08325672e-01,  1.18717879e-01,\n",
       "        -2.95615047e-02, -1.36753052e-01, -2.97285169e-02,  3.66886675e-01,\n",
       "         4.65907782e-01,  8.91220868e-02, -2.46983588e-01,  2.85854459e-01,\n",
       "         2.21763805e-01,  9.48690400e-02,  4.54870671e-01, -3.16764832e-01,\n",
       "         6.04923517e-02,  1.68956622e-01, -6.18470967e-01, -1.33832604e-01,\n",
       "         1.19107932e-01, -2.80436546e-01,  6.50771081e-01,  6.20352030e-02,\n",
       "         6.93857789e-01,  4.65284586e-01, -2.90105194e-01,  2.80147374e-01,\n",
       "        -1.05066583e-01, -1.84369847e-01, -6.84300363e-02, -3.68852496e-01,\n",
       "         5.71700037e-01,  2.53726959e-01,  1.67749524e-01,  3.33166182e-01,\n",
       "         4.35007453e-01,  6.51365817e-02,  7.50464201e-02, -2.01960802e-01,\n",
       "        -3.80589038e-01, -6.65503621e-01, -1.59282833e-01,  3.20976228e-01,\n",
       "         1.29416227e-01,  2.50814080e-01,  3.20297450e-01, -3.99495602e-01,\n",
       "        -6.71886325e-01, -5.53512812e-01, -8.68956000e-03, -8.35887417e-02,\n",
       "        -5.93418479e-02, -8.56307447e-02, -3.02834779e-01,  1.76753014e-01,\n",
       "        -1.00552186e-01,  3.64648908e-01, -3.41201574e-01,  1.34813160e-01,\n",
       "        -1.03814930e-01,  4.18249428e-01,  3.49450707e-02, -4.33529019e-01,\n",
       "         3.52133542e-01, -2.53748596e-01,  3.79770219e-01, -1.33274078e+00,\n",
       "        -2.04715565e-01,  1.30373627e-01, -2.93399304e-01,  3.55992228e-01,\n",
       "         1.74080878e-02, -9.45158303e-02,  7.37840384e-02,  3.68645161e-01,\n",
       "        -1.67656928e-01,  3.68455052e-03,  1.24133334e-01, -7.42944330e-03,\n",
       "         1.95288435e-02, -7.61330128e-03, -5.99349141e-01, -1.92252964e-01,\n",
       "         1.08522356e-01, -1.16591968e-01, -4.01238680e-01,  1.07343942e-01,\n",
       "        -9.34247673e-02,  2.54974186e-01, -1.50047958e+00,  2.96090901e-01,\n",
       "        -2.88429409e-01, -3.28424364e-01, -7.01523423e-02, -1.29716843e-02,\n",
       "         3.73260707e-01,  3.10812503e-01, -4.85602856e-01, -1.68956727e-01,\n",
       "        -5.74798822e-01,  3.02342683e-01, -2.01290876e-01, -6.59552068e-02,\n",
       "         6.72498420e-02, -3.44195962e-02, -4.18039203e-01, -3.09384257e-01,\n",
       "         2.80573815e-01,  9.44010615e-01, -2.12013930e-01,  7.45486259e-01,\n",
       "        -1.28336757e-01,  1.92350700e-01, -2.51262784e-02, -1.64837033e-01,\n",
       "         8.79008293e-01, -4.08353567e-01,  3.96996588e-02,  3.65471184e-01,\n",
       "         2.02611834e-01, -5.00334650e-02, -2.49535620e-01, -9.98731852e-02,\n",
       "         5.33731222e-01,  1.10811055e-01,  2.55603015e-01, -1.60775155e-01,\n",
       "        -2.34738514e-01, -7.58702159e-02,  2.26817191e-01, -9.95342135e-02,\n",
       "         1.42483294e-01, -2.09088773e-02,  2.96753168e-01, -2.64883578e-01,\n",
       "         1.27323061e-01, -1.42774675e-02,  1.18201897e-01,  1.10985257e-01,\n",
       "         4.20047119e-02,  5.78444719e-01,  1.65237039e-02,  2.54758984e-01,\n",
       "        -1.87510163e-01, -3.26785564e-01, -2.36833379e-01,  6.67182565e-01,\n",
       "        -2.68964991e-02,  2.60737032e-01, -1.61030576e-01,  5.59017509e-02,\n",
       "         1.03464812e-01, -1.82297632e-01, -8.17307234e-01, -3.68752033e-01,\n",
       "         1.51104897e-01, -1.71415210e-01,  2.49181330e-01,  1.58384502e-01,\n",
       "         7.28064477e-02,  1.91814840e-01,  5.11226952e-02, -3.67000282e-01,\n",
       "        -8.00428092e-02, -1.30021781e-01,  3.41115892e-02,  9.35683489e-01,\n",
       "        -1.84254599e+00, -9.37185585e-02,  2.66795784e-01, -9.21205759e-01,\n",
       "         5.16963303e-02, -3.88801247e-01, -8.65085721e-02, -6.65086508e-03,\n",
       "        -9.26884636e-02,  2.75265872e-02, -5.51252007e-01,  8.46066475e-02,\n",
       "         1.21647811e+00, -4.82035160e-01,  2.55341470e-01,  1.44204766e-01,\n",
       "         9.73780826e-02, -2.15903372e-01, -1.22710802e-01, -6.36677325e-01,\n",
       "        -1.76559106e-01,  3.40459347e-02, -3.68456468e-02, -3.56855869e-01,\n",
       "        -1.54035330e-01,  7.32650757e-01, -1.09081221e+00, -5.88164270e-01,\n",
       "         2.35015452e-01,  2.09977329e-02, -5.36999583e-01,  2.15924144e-01,\n",
       "         8.40798020e-02,  2.87385285e-03,  3.77272964e-01, -2.22639307e-01,\n",
       "         4.33393568e-01, -1.52438864e-01, -4.37900484e-01, -2.54954994e-01,\n",
       "        -1.26895607e-01, -3.45022768e-01,  3.35703850e-01, -1.03695378e-01,\n",
       "         4.88418758e-01,  3.00475955e-01,  4.97643173e-01, -2.76315749e-01,\n",
       "         1.12134159e-01,  4.51369286e-01, -1.61615491e-01, -1.82098150e-02,\n",
       "         9.08177495e-02,  3.63515168e-02,  1.05517060e-02, -2.20830858e-01,\n",
       "         1.89819545e-01, -4.15347427e-01,  2.98908204e-01, -4.77982581e-01,\n",
       "        -8.06660578e-02,  1.33071139e-01, -2.54278332e-01,  2.79191524e-01,\n",
       "        -1.03366637e+00,  1.71198443e-01, -8.76585394e-03, -9.07685533e-02,\n",
       "         1.48535275e+00, -1.34915262e-01, -9.31300521e-02, -2.06721157e-01,\n",
       "        -2.02729777e-01, -9.90131050e-02, -1.76095426e-01,  9.10311937e-03,\n",
       "        -8.74451548e-02,  6.52383715e-02,  4.43129301e-01,  4.73512590e-01,\n",
       "         2.15544581e-01,  2.24015862e-02, -4.73707616e-02, -1.60114005e-01,\n",
       "         1.07796207e-01, -5.50639331e-02,  8.46700966e-02,  2.22632006e-01,\n",
       "         6.78030401e-03,  1.64892934e-02, -2.98923343e-01, -3.16678584e-01,\n",
       "         2.32652038e-01, -2.32369766e-01,  2.13679612e-01, -1.68273121e-01,\n",
       "         1.94880307e-01,  1.66527346e-01, -1.25998110e-01, -4.08418834e-01,\n",
       "         5.53058386e-01, -3.08799654e-01,  4.64928925e-01, -3.48282337e-01,\n",
       "        -4.19500470e-01,  3.21222305e-01,  5.23833521e-02, -1.37191311e-01,\n",
       "         3.72262657e-01, -1.08020306e-01, -5.06603718e-02,  8.46998468e-02,\n",
       "         4.96830754e-02,  1.56456620e-01, -9.98556241e-03,  4.49879676e-01,\n",
       "         1.71266064e-01, -2.30858162e-01, -1.76182926e-01, -2.31672376e-02,\n",
       "         2.11626574e-01,  5.90705723e-02, -3.68809104e-01, -1.14449918e-01,\n",
       "        -6.75710887e-02,  6.64588511e-02,  4.90206033e-02,  2.56152302e-01,\n",
       "         3.11293632e-01, -3.16840082e-01,  2.07120985e-01,  1.06737465e-02,\n",
       "         3.75185668e-01,  6.37783557e-02,  4.04593721e-02, -5.62832803e-02,\n",
       "        -3.37459207e-01,  5.59373796e-02,  5.70681989e-02,  3.65239501e-01,\n",
       "         1.50096071e+00, -5.87630868e-02, -8.34513605e-02, -9.88076627e-03,\n",
       "        -6.18926942e-01,  6.54044330e-01, -2.53940552e-01,  2.97468454e-01],\n",
       "       dtype=float32),\n",
       " 'label': 'Wealthy',\n",
       " 'networth': 500000}"
      ]
     },
     "execution_count": 66,
     "metadata": {},
     "output_type": "execute_result"
    }
   ],
   "source": [
    "data[0]"
   ]
  },
  {
   "cell_type": "code",
   "execution_count": 56,
   "metadata": {},
   "outputs": [],
   "source": [
    "import faiss\n",
    "import numpy as np\n",
    "import pickle"
   ]
  },
  {
   "cell_type": "code",
   "execution_count": 47,
   "metadata": {},
   "outputs": [],
   "source": [
    "from sklearn.metrics.pairwise import cosine_similarity\n",
    "import numpy as np\n",
    "# from app.database import embedding_store\n",
    "\n",
    "\n",
    "\n",
    "def get_top_k_with_estimation(query_emb: np.ndarray, k: int = 3):\n",
    "    scores = []\n",
    "    \n",
    "    for item in embedding_store:\n",
    "        sim = cosine_similarity([query_emb], [item[\"embedding\"]])[0][0]\n",
    "        scores.append({\n",
    "            \"net_worth\": item[\"networth\"],\n",
    "            \"label\": item['label'],\n",
    "            \"similarity_score_\": float(sim)\n",
    "        })\n",
    "\n",
    "    # Get top-k similar profiles\n",
    "    top_k = sorted(scores, key=lambda x: x[\"similarity_score_\"], reverse=True)[:k]\n",
    "\n",
    "    # Estimate net worth and label of input image\n",
    "    est_net_worth = np.mean([x[\"net_worth\"] for x in top_k])\n",
    "    est_label = \"Wealthy\" if est_net_worth >= 1_000_000 else \"Not Wealthy\"\n",
    "\n",
    "    # Final output\n",
    "    result = {\n",
    "        \"estimated_wealth\": round(est_net_worth, 2),\n",
    "        \"estimated_label\": est_label,\n",
    "        \"top_3_similar_matches\": top_k\n",
    "    }\n",
    "\n",
    "    return result\n"
   ]
  },
  {
   "cell_type": "code",
   "execution_count": 59,
   "metadata": {},
   "outputs": [],
   "source": [
    "img = Image.open(\"data/pic1.jpeg\").convert(\"RGB\")\n",
    "samplemb = compute_clip_embedding(img).numpy()\n",
    "results = get_top_k_with_estimation(samplemb)\n"
   ]
  },
  {
   "cell_type": "code",
   "execution_count": 60,
   "metadata": {},
   "outputs": [
    {
     "data": {
      "text/plain": [
       "{'estimated_net_worth': np.float64(566666.67),\n",
       " 'estimated_label': 'Not Wealthy',\n",
       " 'top_3_similar_matches': [{'net_worth': 500000,\n",
       "   'label': 'Wealthy',\n",
       "   'similarity_score_': 1.0000001192092896},\n",
       "  {'net_worth': 500000,\n",
       "   'label': 'Not Wealthy',\n",
       "   'similarity_score_': 0.6646890640258789},\n",
       "  {'net_worth': 700000,\n",
       "   'label': 'Wealthy',\n",
       "   'similarity_score_': 0.6425244808197021}]}"
      ]
     },
     "execution_count": 60,
     "metadata": {},
     "output_type": "execute_result"
    }
   ],
   "source": [
    "results"
   ]
  },
  {
   "cell_type": "code",
   "execution_count": 92,
   "metadata": {},
   "outputs": [],
   "source": [
    "index = faiss.read_index(\"app/faiss_index.index\")\n"
   ]
  },
  {
   "cell_type": "code",
   "execution_count": 93,
   "metadata": {},
   "outputs": [
    {
     "data": {
      "text/plain": [
       "<faiss.swigfaiss.IndexFlatIP; proxy of <Swig Object of type 'faiss::IndexFlatIP *' at 0x1584d1930> >"
      ]
     },
     "execution_count": 93,
     "metadata": {},
     "output_type": "execute_result"
    }
   ],
   "source": [
    "index"
   ]
  },
  {
   "cell_type": "code",
   "execution_count": 90,
   "metadata": {},
   "outputs": [],
   "source": [
    "# Load index and metadat\n",
    "index = faiss.read_index(\"app/faiss_index.index\")\n",
    "with open(\"app/embedding_store.pkl\", \"rb\") as f:\n",
    "    metadata = pickle.load(f)\n",
    "\n",
    "def get_top_k_with_estimation_faiss(query_emb: np.ndarray, k=3):\n",
    "    query = query_emb.astype(\"float32\").reshape(1, -1)\n",
    "    faiss.normalize_L2(query)\n",
    "\n",
    "    sim_scores, indices = index.search(query, k)\n",
    "    top_k = []\n",
    "\n",
    "    for i, idx in enumerate(indices[0]):\n",
    "        meta = metadata[idx]\n",
    "        \n",
    "        top_k.append({\n",
    "            \"net_wealth\": meta[\"networth\"],\n",
    "            \"label\": \"Wealthy\" if meta[\"networth\"] >= 1_000_000 else \"Not Wealthy\",\n",
    "            \"similarity_score\": float(sim_scores[0][i])\n",
    "\n",
    "        })\n",
    "\n",
    "    estimated = np.mean([x[\"net_wealth\"] for x in top_k])\n",
    "    mean_similarity = np.mean([x[\"similarity_score\"] for x in top_k])\n",
    "\n",
    "    #input profile is wealthy if mean similarity for top 3 mtaches>=0.6\n",
    "    label = \"Wealthy\" if mean_similarity >=0.6 else \"Not Wealthy\"\n",
    "\n",
    "    return {\n",
    "        \"estimated_net_worth\": round(float(estimated), 2),\n",
    "        \"estimated_wealth_level\": label,\n",
    "        \"top_3_matches\": top_k\n",
    "    }"
   ]
  },
  {
   "cell_type": "code",
   "execution_count": 91,
   "metadata": {},
   "outputs": [
    {
     "data": {
      "text/plain": [
       "{'estimated_net_worth': 566666.67,\n",
       " 'estimated_wealth_level': 'Wealthy',\n",
       " 'top_3_matches': [{'net_wealth': 500000,\n",
       "   'label': 'Not Wealthy',\n",
       "   'similarity_score': 1.000000238418579},\n",
       "  {'net_wealth': 500000,\n",
       "   'label': 'Not Wealthy',\n",
       "   'similarity_score': 0.6646890640258789},\n",
       "  {'net_wealth': 700000,\n",
       "   'label': 'Not Wealthy',\n",
       "   'similarity_score': 0.6425244808197021}]}"
      ]
     },
     "execution_count": 91,
     "metadata": {},
     "output_type": "execute_result"
    }
   ],
   "source": [
    "results=get_top_k_with_estimation_faiss(samplemb)\n",
    "results"
   ]
  },
  {
   "cell_type": "code",
   "execution_count": 87,
   "metadata": {},
   "outputs": [
    {
     "ename": "KeyError",
     "evalue": "'networth'",
     "output_type": "error",
     "traceback": [
      "\u001b[0;31m---------------------------------------------------------------------------\u001b[0m",
      "\u001b[0;31mKeyError\u001b[0m                                  Traceback (most recent call last)",
      "Cell \u001b[0;32mIn[87], line 11\u001b[0m\n\u001b[1;32m      3\u001b[0m meta \u001b[38;5;241m=\u001b[39m metadata[idx]\n\u001b[1;32m      4\u001b[0m top_k\u001b[38;5;241m.\u001b[39mappend({\n\u001b[1;32m      5\u001b[0m     \u001b[38;5;124m\"\u001b[39m\u001b[38;5;124mid\u001b[39m\u001b[38;5;124m\"\u001b[39m: meta[\u001b[38;5;124m\"\u001b[39m\u001b[38;5;124mid\u001b[39m\u001b[38;5;124m\"\u001b[39m],\n\u001b[1;32m      6\u001b[0m     \u001b[38;5;124m\"\u001b[39m\u001b[38;5;124mnet_wealth\u001b[39m\u001b[38;5;124m\"\u001b[39m: meta[\u001b[38;5;124m\"\u001b[39m\u001b[38;5;124mnetworth\u001b[39m\u001b[38;5;124m\"\u001b[39m],\n\u001b[0;32m   (...)\u001b[0m\n\u001b[1;32m      9\u001b[0m \n\u001b[1;32m     10\u001b[0m })\n\u001b[0;32m---> 11\u001b[0m estimated \u001b[38;5;241m=\u001b[39m np\u001b[38;5;241m.\u001b[39mmean([x[\u001b[38;5;124m\"\u001b[39m\u001b[38;5;124mnetworth\u001b[39m\u001b[38;5;124m\"\u001b[39m] \u001b[38;5;28;01mfor\u001b[39;00m x \u001b[38;5;129;01min\u001b[39;00m top_k])\n",
      "Cell \u001b[0;32mIn[87], line 11\u001b[0m, in \u001b[0;36m<listcomp>\u001b[0;34m(.0)\u001b[0m\n\u001b[1;32m      3\u001b[0m meta \u001b[38;5;241m=\u001b[39m metadata[idx]\n\u001b[1;32m      4\u001b[0m top_k\u001b[38;5;241m.\u001b[39mappend({\n\u001b[1;32m      5\u001b[0m     \u001b[38;5;124m\"\u001b[39m\u001b[38;5;124mid\u001b[39m\u001b[38;5;124m\"\u001b[39m: meta[\u001b[38;5;124m\"\u001b[39m\u001b[38;5;124mid\u001b[39m\u001b[38;5;124m\"\u001b[39m],\n\u001b[1;32m      6\u001b[0m     \u001b[38;5;124m\"\u001b[39m\u001b[38;5;124mnet_wealth\u001b[39m\u001b[38;5;124m\"\u001b[39m: meta[\u001b[38;5;124m\"\u001b[39m\u001b[38;5;124mnetworth\u001b[39m\u001b[38;5;124m\"\u001b[39m],\n\u001b[0;32m   (...)\u001b[0m\n\u001b[1;32m      9\u001b[0m \n\u001b[1;32m     10\u001b[0m })\n\u001b[0;32m---> 11\u001b[0m estimated \u001b[38;5;241m=\u001b[39m np\u001b[38;5;241m.\u001b[39mmean([\u001b[43mx\u001b[49m\u001b[43m[\u001b[49m\u001b[38;5;124;43m\"\u001b[39;49m\u001b[38;5;124;43mnetworth\u001b[39;49m\u001b[38;5;124;43m\"\u001b[39;49m\u001b[43m]\u001b[49m \u001b[38;5;28;01mfor\u001b[39;00m x \u001b[38;5;129;01min\u001b[39;00m top_k])\n",
      "\u001b[0;31mKeyError\u001b[0m: 'networth'"
     ]
    }
   ],
   "source": [
    "top_k=[]\n",
    "for i, idx in enumerate(indices[0]):\n",
    "    meta = metadata[idx]\n",
    "    top_k.append({\n",
    "        \"id\": meta[\"id\"],\n",
    "        \"net_wealth\": meta[\"networth\"],\n",
    "        \"label\": \"Wealthy\" if meta[\"networth\"] >= 1_000_000 else \"Not Wealthy\",\n",
    "        \"similarity_score\": float(sim_scores[0][i])\n",
    "\n",
    "    })\n",
    "    estimated = np.mean([x[\"networth\"] for x in top_k])\n"
   ]
  },
  {
   "cell_type": "code",
   "execution_count": 76,
   "metadata": {},
   "outputs": [
    {
     "data": {
      "text/plain": [
       "700000"
      ]
     },
     "execution_count": 76,
     "metadata": {},
     "output_type": "execute_result"
    }
   ],
   "source": [
    "meta['networth']"
   ]
  },
  {
   "cell_type": "code",
   "execution_count": 69,
   "metadata": {},
   "outputs": [
    {
     "ename": "KeyError",
     "evalue": "'networth'",
     "output_type": "error",
     "traceback": [
      "\u001b[0;31m---------------------------------------------------------------------------\u001b[0m",
      "\u001b[0;31mKeyError\u001b[0m                                  Traceback (most recent call last)",
      "Cell \u001b[0;32mIn[69], line 1\u001b[0m\n\u001b[0;32m----> 1\u001b[0m results \u001b[38;5;241m=\u001b[39m \u001b[43mget_top_k_with_estimation_faiss\u001b[49m\u001b[43m(\u001b[49m\u001b[43msamplemb\u001b[49m\u001b[43m)\u001b[49m\n",
      "Cell \u001b[0;32mIn[68], line 23\u001b[0m, in \u001b[0;36mget_top_k_with_estimation_faiss\u001b[0;34m(query_emb, k)\u001b[0m\n\u001b[1;32m     14\u001b[0m     meta \u001b[38;5;241m=\u001b[39m metadata[idx]\n\u001b[1;32m     15\u001b[0m     top_k\u001b[38;5;241m.\u001b[39mappend({\n\u001b[1;32m     16\u001b[0m         \u001b[38;5;124m\"\u001b[39m\u001b[38;5;124mid\u001b[39m\u001b[38;5;124m\"\u001b[39m: meta[\u001b[38;5;124m\"\u001b[39m\u001b[38;5;124mid\u001b[39m\u001b[38;5;124m\"\u001b[39m],\n\u001b[1;32m     17\u001b[0m         \u001b[38;5;124m\"\u001b[39m\u001b[38;5;124mnet_wealth\u001b[39m\u001b[38;5;124m\"\u001b[39m: meta[\u001b[38;5;124m\"\u001b[39m\u001b[38;5;124mnetworth\u001b[39m\u001b[38;5;124m\"\u001b[39m],\n\u001b[0;32m   (...)\u001b[0m\n\u001b[1;32m     20\u001b[0m \n\u001b[1;32m     21\u001b[0m     })\n\u001b[0;32m---> 23\u001b[0m estimated \u001b[38;5;241m=\u001b[39m np\u001b[38;5;241m.\u001b[39mmean([x[\u001b[38;5;124m\"\u001b[39m\u001b[38;5;124mnetworth\u001b[39m\u001b[38;5;124m\"\u001b[39m] \u001b[38;5;28;01mfor\u001b[39;00m x \u001b[38;5;129;01min\u001b[39;00m top_k])\n\u001b[1;32m     24\u001b[0m label \u001b[38;5;241m=\u001b[39m \u001b[38;5;124m\"\u001b[39m\u001b[38;5;124mWealthy\u001b[39m\u001b[38;5;124m\"\u001b[39m \u001b[38;5;28;01mif\u001b[39;00m estimated \u001b[38;5;241m>\u001b[39m\u001b[38;5;241m=\u001b[39m \u001b[38;5;241m1_000_000\u001b[39m \u001b[38;5;28;01melse\u001b[39;00m \u001b[38;5;124m\"\u001b[39m\u001b[38;5;124mNot Wealthy\u001b[39m\u001b[38;5;124m\"\u001b[39m\n\u001b[1;32m     26\u001b[0m \u001b[38;5;28;01mreturn\u001b[39;00m {\n\u001b[1;32m     27\u001b[0m     \u001b[38;5;124m\"\u001b[39m\u001b[38;5;124mestimated_net_worth\u001b[39m\u001b[38;5;124m\"\u001b[39m: \u001b[38;5;28mround\u001b[39m(\u001b[38;5;28mfloat\u001b[39m(estimated), \u001b[38;5;241m2\u001b[39m),\n\u001b[1;32m     28\u001b[0m     \u001b[38;5;124m\"\u001b[39m\u001b[38;5;124mestimated_wealth_level\u001b[39m\u001b[38;5;124m\"\u001b[39m: label,\n\u001b[1;32m     29\u001b[0m     \u001b[38;5;124m\"\u001b[39m\u001b[38;5;124mtop_3_matches\u001b[39m\u001b[38;5;124m\"\u001b[39m: top_k\n\u001b[1;32m     30\u001b[0m }\n",
      "Cell \u001b[0;32mIn[68], line 23\u001b[0m, in \u001b[0;36m<listcomp>\u001b[0;34m(.0)\u001b[0m\n\u001b[1;32m     14\u001b[0m     meta \u001b[38;5;241m=\u001b[39m metadata[idx]\n\u001b[1;32m     15\u001b[0m     top_k\u001b[38;5;241m.\u001b[39mappend({\n\u001b[1;32m     16\u001b[0m         \u001b[38;5;124m\"\u001b[39m\u001b[38;5;124mid\u001b[39m\u001b[38;5;124m\"\u001b[39m: meta[\u001b[38;5;124m\"\u001b[39m\u001b[38;5;124mid\u001b[39m\u001b[38;5;124m\"\u001b[39m],\n\u001b[1;32m     17\u001b[0m         \u001b[38;5;124m\"\u001b[39m\u001b[38;5;124mnet_wealth\u001b[39m\u001b[38;5;124m\"\u001b[39m: meta[\u001b[38;5;124m\"\u001b[39m\u001b[38;5;124mnetworth\u001b[39m\u001b[38;5;124m\"\u001b[39m],\n\u001b[0;32m   (...)\u001b[0m\n\u001b[1;32m     20\u001b[0m \n\u001b[1;32m     21\u001b[0m     })\n\u001b[0;32m---> 23\u001b[0m estimated \u001b[38;5;241m=\u001b[39m np\u001b[38;5;241m.\u001b[39mmean([\u001b[43mx\u001b[49m\u001b[43m[\u001b[49m\u001b[38;5;124;43m\"\u001b[39;49m\u001b[38;5;124;43mnetworth\u001b[39;49m\u001b[38;5;124;43m\"\u001b[39;49m\u001b[43m]\u001b[49m \u001b[38;5;28;01mfor\u001b[39;00m x \u001b[38;5;129;01min\u001b[39;00m top_k])\n\u001b[1;32m     24\u001b[0m label \u001b[38;5;241m=\u001b[39m \u001b[38;5;124m\"\u001b[39m\u001b[38;5;124mWealthy\u001b[39m\u001b[38;5;124m\"\u001b[39m \u001b[38;5;28;01mif\u001b[39;00m estimated \u001b[38;5;241m>\u001b[39m\u001b[38;5;241m=\u001b[39m \u001b[38;5;241m1_000_000\u001b[39m \u001b[38;5;28;01melse\u001b[39;00m \u001b[38;5;124m\"\u001b[39m\u001b[38;5;124mNot Wealthy\u001b[39m\u001b[38;5;124m\"\u001b[39m\n\u001b[1;32m     26\u001b[0m \u001b[38;5;28;01mreturn\u001b[39;00m {\n\u001b[1;32m     27\u001b[0m     \u001b[38;5;124m\"\u001b[39m\u001b[38;5;124mestimated_net_worth\u001b[39m\u001b[38;5;124m\"\u001b[39m: \u001b[38;5;28mround\u001b[39m(\u001b[38;5;28mfloat\u001b[39m(estimated), \u001b[38;5;241m2\u001b[39m),\n\u001b[1;32m     28\u001b[0m     \u001b[38;5;124m\"\u001b[39m\u001b[38;5;124mestimated_wealth_level\u001b[39m\u001b[38;5;124m\"\u001b[39m: label,\n\u001b[1;32m     29\u001b[0m     \u001b[38;5;124m\"\u001b[39m\u001b[38;5;124mtop_3_matches\u001b[39m\u001b[38;5;124m\"\u001b[39m: top_k\n\u001b[1;32m     30\u001b[0m }\n",
      "\u001b[0;31mKeyError\u001b[0m: 'networth'"
     ]
    }
   ],
   "source": [
    "results = get_top_k_with_estimation_faiss(samplemb)\n"
   ]
  },
  {
   "cell_type": "code",
   "execution_count": null,
   "metadata": {},
   "outputs": [],
   "source": []
  }
 ],
 "metadata": {
  "kernelspec": {
   "display_name": ".venv",
   "language": "python",
   "name": "python3"
  },
  "language_info": {
   "codemirror_mode": {
    "name": "ipython",
    "version": 3
   },
   "file_extension": ".py",
   "mimetype": "text/x-python",
   "name": "python",
   "nbconvert_exporter": "python",
   "pygments_lexer": "ipython3",
   "version": "3.9.6"
  }
 },
 "nbformat": 4,
 "nbformat_minor": 2
}
