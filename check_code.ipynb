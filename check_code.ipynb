{
 "cells": [
  {
   "cell_type": "code",
   "execution_count": 7,
   "metadata": {},
   "outputs": [
    {
     "name": "stderr",
     "output_type": "stream",
     "text": [
      "/Users/arnavjain/Documents/wealth_estimator_app/.venv/lib/python3.9/site-packages/urllib3/__init__.py:35: NotOpenSSLWarning: urllib3 v2 only supports OpenSSL 1.1.1+, currently the 'ssl' module is compiled with 'LibreSSL 2.8.3'. See: https://github.com/urllib3/urllib3/issues/3020\n",
      "  warnings.warn(\n",
      "/Users/arnavjain/Documents/wealth_estimator_app/.venv/lib/python3.9/site-packages/tqdm/auto.py:21: TqdmWarning: IProgress not found. Please update jupyter and ipywidgets. See https://ipywidgets.readthedocs.io/en/stable/user_install.html\n",
      "  from .autonotebook import tqdm as notebook_tqdm\n"
     ]
    }
   ],
   "source": [
    "from fastapi import FastAPI, UploadFile, File, HTTPException ,status\n",
    "from fastapi.responses import JSONResponse\n",
    "import os\n",
    "import sys\n",
    "# add project root to path\n",
    "PROJECT_ROOT = os.path.abspath(os.path.join(os.getcwd(), \"..\"))  # one level up\n",
    "sys.path.append(PROJECT_ROOT)\n",
    "from app.helper import compute_image_embedding, get_top_k_with_estimation_faiss,load_clip_model,load_files\n",
    "from PIL import Image, UnidentifiedImageError\n",
    "from io import BytesIO\n",
    "from pydantic import BaseModel\n",
    "from typing import List\n",
    "import logging\n"
   ]
  },
  {
   "cell_type": "code",
   "execution_count": 9,
   "metadata": {},
   "outputs": [
    {
     "name": "stderr",
     "output_type": "stream",
     "text": [
      "Using a slow image processor as `use_fast` is unset and a slow processor was saved with this model. `use_fast=True` will be the default behavior in v4.52, even if the model was saved with a slow processor. This will result in minor differences in outputs. You'll still be able to use a slow processor with `use_fast=False`.\n"
     ]
    }
   ],
   "source": [
    "clip_model,clip_processor=load_clip_model(device='cpu')"
   ]
  },
  {
   "cell_type": "code",
   "execution_count": 19,
   "metadata": {},
   "outputs": [],
   "source": [
    "index_file, meta=load_files(\"../embeddings\")"
   ]
  },
  {
   "cell_type": "code",
   "execution_count": 17,
   "metadata": {},
   "outputs": [],
   "source": [
    "size=(224, 224)\n",
    "# image_bytes = await file.read()\n",
    "image = Image.open(\"pic1.jpg\").convert(\"RGB\")\n",
    "\n",
    "# image = Image.open(BytesIO(image_bytes)).convert(\"RGB\")\n",
    "image = image.resize(size, Image.BICUBIC)\n",
    "\n",
    "\n",
    "query_embedding = compute_image_embedding(image, clip_model, clip_processor)\n",
    "\n"
   ]
  },
  {
   "cell_type": "code",
   "execution_count": 20,
   "metadata": {},
   "outputs": [
    {
     "data": {
      "text/plain": [
       "{'estimated_net_worth_canadian': 368666.67,\n",
       " 'estimated_wealth_level': 'Wealthy',\n",
       " 'top_3_matches': [{'net_wealth': 500000,\n",
       "   'wealth_level': 'Not Wealthy',\n",
       "   'similarity_score': 1.0000001192092896},\n",
       "  {'net_wealth': 6000,\n",
       "   'wealth_level': 'Not Wealthy',\n",
       "   'similarity_score': 0.8128492832183838},\n",
       "  {'net_wealth': 600000,\n",
       "   'wealth_level': 'Not Wealthy',\n",
       "   'similarity_score': 0.7876060009002686}]}"
      ]
     },
     "execution_count": 20,
     "metadata": {},
     "output_type": "execute_result"
    }
   ],
   "source": [
    "results = get_top_k_with_estimation_faiss(query_embedding, index_file, meta)\n",
    "results"
   ]
  },
  {
   "cell_type": "code",
   "execution_count": null,
   "metadata": {},
   "outputs": [],
   "source": [
    "\n",
    "# async def predict(file: UploadFile = \"pic1.jpg\"):\n",
    "#     try:\n",
    "#         if file.content_type not in [\"image/jpeg\", \"image/png\",\"image/jpg\"]:\n",
    "#             return JSONResponse(\n",
    "#                 content={\"message\": \"Only JPEG or PNG images are supported.\"},\n",
    "#                 status_code=status.HTTP_400_BAD_REQUEST\n",
    "#             )\n",
    "       \n",
    "\n",
    "        # return results\n",
    "\n",
    "    #     return JSONResponse(\n",
    "    #             content={ \"results\": results},\n",
    "    #             status_code=status.HTTP_200_OK\n",
    "    #     )\n",
    "\n",
    "    # except Exception as e:\n",
    "    #     print(\"error\")"
   ]
  }
 ],
 "metadata": {
  "kernelspec": {
   "display_name": ".venv",
   "language": "python",
   "name": "python3"
  },
  "language_info": {
   "codemirror_mode": {
    "name": "ipython",
    "version": 3
   },
   "file_extension": ".py",
   "mimetype": "text/x-python",
   "name": "python",
   "nbconvert_exporter": "python",
   "pygments_lexer": "ipython3",
   "version": "3.9.6"
  }
 },
 "nbformat": 4,
 "nbformat_minor": 2
}
